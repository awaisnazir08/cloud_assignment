{
 "cells": [
  {
   "cell_type": "code",
   "execution_count": 1,
   "metadata": {},
   "outputs": [],
   "source": [
    "from datasets import load_dataset"
   ]
  },
  {
   "cell_type": "code",
   "execution_count": 2,
   "metadata": {},
   "outputs": [],
   "source": [
    "# Replace with your dataset name\n",
    "dataset = load_dataset(\"Norod78/cartoon-blip-captions\")\n",
    "# dataset.save_to_disk(\"./cartoon_text_to_image\")"
   ]
  },
  {
   "cell_type": "code",
   "execution_count": 7,
   "metadata": {},
   "outputs": [
    {
     "data": {
      "text/plain": [
       "{'image': <PIL.JpegImagePlugin.JpegImageFile image mode=RGB size=512x512>,\n",
       " 'text': \"two people with a man's face\"}"
      ]
     },
     "execution_count": 7,
     "metadata": {},
     "output_type": "execute_result"
    }
   ],
   "source": [
    "dataset['train'][1]"
   ]
  },
  {
   "cell_type": "code",
   "execution_count": 8,
   "metadata": {},
   "outputs": [
    {
     "name": "stderr",
     "output_type": "stream",
     "text": [
      "100%|██████████| 3141/3141 [00:17<00:00, 183.30it/s]"
     ]
    },
    {
     "name": "stdout",
     "output_type": "stream",
     "text": [
      "Images and metadata saved successfully!\n"
     ]
    },
    {
     "name": "stderr",
     "output_type": "stream",
     "text": [
      "\n"
     ]
    }
   ],
   "source": [
    "import os\n",
    "import json\n",
    "from tqdm import tqdm\n",
    "from datasets import load_dataset\n",
    "\n",
    "# Load the dataset\n",
    "dataset = load_dataset(\"Norod78/cartoon-blip-captions\")\n",
    "\n",
    "# Create a folder to store images\n",
    "output_dir = \"training_images\"\n",
    "os.makedirs(output_dir, exist_ok=True)\n",
    "\n",
    "# Save images and metadata\n",
    "metadata = []\n",
    "for i, example in enumerate(tqdm(dataset[\"train\"])):\n",
    "    # Save the image\n",
    "    image = example[\"image\"]\n",
    "    image_filename = f\"image_{i}.jpg\"\n",
    "    image_path = os.path.join(output_dir, image_filename)\n",
    "    image.save(image_path, format=\"JPEG\")\n",
    "\n",
    "    # Save the caption\n",
    "    caption = example[\"text\"]\n",
    "    metadata.append({\"file_name\": image_filename, \"text\": caption})\n",
    "\n",
    "# Write metadata.jsonl\n",
    "with open(os.path.join(output_dir, \"metadata.jsonl\"), \"w\") as f:\n",
    "    for entry in metadata:\n",
    "        f.write(json.dumps(entry) + \"\\n\")\n",
    "\n",
    "print(\"Images and metadata saved successfully!\")\n"
   ]
  },
  {
   "cell_type": "code",
   "execution_count": 2,
   "metadata": {},
   "outputs": [],
   "source": [
    "import os\n",
    "import json\n",
    "from tqdm import tqdm\n",
    "from datasets import load_dataset\n",
    "metadata_file = 'images/metadata.jsonl'\n",
    "captions_dir = \"captions\"  # Directory to save caption text files\n",
    "\n"
   ]
  },
  {
   "cell_type": "code",
   "execution_count": 3,
   "metadata": {},
   "outputs": [
    {
     "name": "stdout",
     "output_type": "stream",
     "text": [
      "Captions saved in 'captions' directory.\n"
     ]
    }
   ],
   "source": [
    "\n",
    "# Create captions directory if it doesn't exist\n",
    "os.makedirs(captions_dir, exist_ok=True)\n",
    "\n",
    "# Process metadata and save captions\n",
    "with open(metadata_file, \"r\") as f:\n",
    "    for line in f:\n",
    "        # Load each JSON object\n",
    "        data = json.loads(line.strip())\n",
    "        image_name = data[\"file_name\"]\n",
    "        caption_text = data[\"text\"]\n",
    "\n",
    "        # Save caption in a .txt file with the same name as the image\n",
    "        caption_file = os.path.join(captions_dir, os.path.splitext(image_name)[0] + \".txt\")\n",
    "        with open(caption_file, \"w\") as caption_f:\n",
    "            caption_f.write(caption_text)\n",
    "\n",
    "print(f\"Captions saved in '{captions_dir}' directory.\")"
   ]
  }
 ],
 "metadata": {
  "kernelspec": {
   "display_name": "Python 3",
   "language": "python",
   "name": "python3"
  },
  "language_info": {
   "codemirror_mode": {
    "name": "ipython",
    "version": 3
   },
   "file_extension": ".py",
   "mimetype": "text/x-python",
   "name": "python",
   "nbconvert_exporter": "python",
   "pygments_lexer": "ipython3",
   "version": "3.11.5"
  }
 },
 "nbformat": 4,
 "nbformat_minor": 2
}
